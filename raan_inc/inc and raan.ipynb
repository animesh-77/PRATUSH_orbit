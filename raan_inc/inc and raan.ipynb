{
 "cells": [
  {
   "cell_type": "code",
   "execution_count": 1,
   "id": "af3b8a0c",
   "metadata": {},
   "outputs": [],
   "source": [
    "import pandas as pd\n",
    "import matplotlib.pyplot as plt\n",
    "import numpy as np"
   ]
  },
  {
   "cell_type": "code",
   "execution_count": 3,
   "id": "66d55efc",
   "metadata": {},
   "outputs": [],
   "source": [
    "\n",
    "head= np.array([\"inc\",\"raan\",\"TA\",\"Altitude\",\"Days\"])\n",
    "df= pd.read_csv(\"inc_raan_24Jul_all.csv\", header= None)\n",
    "\n",
    "df.columns= head\n",
    "\n"
   ]
  },
  {
   "cell_type": "code",
   "execution_count": 24,
   "id": "b8f512c2",
   "metadata": {},
   "outputs": [
    {
     "data": {
      "text/html": [
       "<div>\n",
       "<style scoped>\n",
       "    .dataframe tbody tr th:only-of-type {\n",
       "        vertical-align: middle;\n",
       "    }\n",
       "\n",
       "    .dataframe tbody tr th {\n",
       "        vertical-align: top;\n",
       "    }\n",
       "\n",
       "    .dataframe thead th {\n",
       "        text-align: right;\n",
       "    }\n",
       "</style>\n",
       "<table border=\"1\" class=\"dataframe\">\n",
       "  <thead>\n",
       "    <tr style=\"text-align: right;\">\n",
       "      <th></th>\n",
       "      <th>inc</th>\n",
       "      <th>raan</th>\n",
       "      <th>TA</th>\n",
       "      <th>Altitude</th>\n",
       "      <th>Days</th>\n",
       "    </tr>\n",
       "  </thead>\n",
       "  <tbody>\n",
       "    <tr>\n",
       "      <th>0</th>\n",
       "      <td>0.00001</td>\n",
       "      <td>0</td>\n",
       "      <td>180.000000</td>\n",
       "      <td>145.266416</td>\n",
       "      <td>0.040916</td>\n",
       "    </tr>\n",
       "    <tr>\n",
       "      <th>1</th>\n",
       "      <td>0.00001</td>\n",
       "      <td>0</td>\n",
       "      <td>0.000000</td>\n",
       "      <td>50.318612</td>\n",
       "      <td>0.081864</td>\n",
       "    </tr>\n",
       "    <tr>\n",
       "      <th>2</th>\n",
       "      <td>0.00001</td>\n",
       "      <td>0</td>\n",
       "      <td>180.000000</td>\n",
       "      <td>145.216408</td>\n",
       "      <td>0.122780</td>\n",
       "    </tr>\n",
       "    <tr>\n",
       "      <th>3</th>\n",
       "      <td>0.00001</td>\n",
       "      <td>0</td>\n",
       "      <td>0.000000</td>\n",
       "      <td>50.370364</td>\n",
       "      <td>0.163729</td>\n",
       "    </tr>\n",
       "    <tr>\n",
       "      <th>4</th>\n",
       "      <td>0.00001</td>\n",
       "      <td>0</td>\n",
       "      <td>179.999999</td>\n",
       "      <td>145.164212</td>\n",
       "      <td>0.204644</td>\n",
       "    </tr>\n",
       "  </tbody>\n",
       "</table>\n",
       "</div>"
      ],
      "text/plain": [
       "       inc  raan          TA    Altitude      Days\n",
       "0  0.00001     0  180.000000  145.266416  0.040916\n",
       "1  0.00001     0    0.000000   50.318612  0.081864\n",
       "2  0.00001     0  180.000000  145.216408  0.122780\n",
       "3  0.00001     0    0.000000   50.370364  0.163729\n",
       "4  0.00001     0  179.999999  145.164212  0.204644"
      ]
     },
     "execution_count": 24,
     "metadata": {},
     "output_type": "execute_result"
    }
   ],
   "source": [
    "df.head()"
   ]
  },
  {
   "cell_type": "code",
   "execution_count": 6,
   "id": "879c6df1",
   "metadata": {
    "scrolled": false
   },
   "outputs": [],
   "source": [
    "inc_vals= df.inc.unique()\n",
    "raan_vals= df.raan.unique()\n",
    "\n",
    "df_new= pd.DataFrame(columns= head) #new dataframe containing last data for last (inc, raan) combination\n",
    "\n",
    "for inc in inc_vals:\n",
    "    for raan in raan_vals:\n",
    "        \n",
    "        df_new= df_new.append(df[(df[\"inc\"]== inc) & (df[\"raan\"]== raan)].tail(1), ignore_index=True)\n",
    "        # storing entry for a certain (inc, raan) combination in a dataframe\n",
    "        \n",
    "\n"
   ]
  },
  {
   "cell_type": "code",
   "execution_count": 8,
   "id": "12d639c2",
   "metadata": {},
   "outputs": [],
   "source": [
    "%matplotlib qt"
   ]
  },
  {
   "cell_type": "code",
   "execution_count": 45,
   "id": "6ffecdc7",
   "metadata": {
    "scrolled": false
   },
   "outputs": [],
   "source": [
    "import matplotlib.pyplot as plt\n",
    "from mpl_toolkits.mplot3d import Axes3D\n",
    "\n",
    "\n",
    "fig = plt.figure(1)\n",
    "ax = fig.add_subplot(111, projection='3d')\n",
    "\n",
    "x_vals= df_new[\"inc\"]\n",
    "y_vals= df_new[\"raan\"]\n",
    "z_vals= df_new[\"Days\"]\n",
    "\n",
    "trisurf =ax.plot_trisurf(x_vals, y_vals, z_vals , cmap= \"RdBu\", linewidth=0)\n",
    "fig.colorbar(trisurf, ax = ax, shrink = 0.5, aspect = 10)\n",
    "\n",
    "ax.set_xlabel('\\n INC'  ,fontsize= 15) \n",
    "ax.set_ylabel('\\n RAAN' ,fontsize= 15) \n",
    "ax.set_zlabel('\\n DAYS' ,fontsize= 15)\n",
    "\n",
    "plt.show()"
   ]
  },
  {
   "cell_type": "code",
   "execution_count": 40,
   "id": "2c1afe7e",
   "metadata": {},
   "outputs": [
    {
     "data": {
      "text/plain": [
       "Text(0.5, 0, '\\n DAYS')"
      ]
     },
     "execution_count": 40,
     "metadata": {},
     "output_type": "execute_result"
    }
   ],
   "source": [
    "x2= np.array(x_vals)\n",
    "y2= np.array(y_vals)\n",
    "z2= np.array(z_vals)\n",
    "\n",
    "x2=x2.reshape((11,36))\n",
    "y2=y2.reshape((11,36))\n",
    "z2=z2.reshape((11,36))\n",
    "\n",
    "fig = plt.figure(2)\n",
    "ax = fig.add_subplot(111, projection='3d')\n",
    "\n",
    "\n",
    "trisurf =ax.plot_trisurf(x_vals, y_vals, z_vals , cmap= \"RdBu\", linewidth=0)\n",
    "fig.colorbar(trisurf, ax = ax, shrink = 0.5, aspect = 10)\n",
    "surf=ax.plot_wireframe(x2, y2, z2 ,  cmap= \"RdBu\")\n",
    "\n",
    "ax.set_xlabel('\\n INC'  ,fontsize= 15) \n",
    "ax.set_ylabel('\\n RAAN' ,fontsize= 15) \n",
    "ax.set_zlabel('\\n DAYS' ,fontsize= 15)"
   ]
  }
 ],
 "metadata": {
  "kernelspec": {
   "display_name": "Python 3",
   "language": "python",
   "name": "python3"
  },
  "language_info": {
   "codemirror_mode": {
    "name": "ipython",
    "version": 3
   },
   "file_extension": ".py",
   "mimetype": "text/x-python",
   "name": "python",
   "nbconvert_exporter": "python",
   "pygments_lexer": "ipython3",
   "version": "3.8.8"
  }
 },
 "nbformat": 4,
 "nbformat_minor": 5
}
