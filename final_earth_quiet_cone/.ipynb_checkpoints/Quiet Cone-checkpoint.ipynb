{
 "cells": [
  {
   "cell_type": "markdown",
   "metadata": {},
   "source": [
    "The first 3 cells are from codes provided in the [paper](https://arxiv.org/pdf/2003.03468.pdf) \"Characterizing the radio quiet region behind the lunar farside for low radio frequency experiments.\" by Bassett, Neil, et al.\n",
    "\n",
    "Details of the code can be found [here](https://bitbucket.org/nbassett/lunar-rfi/src/master/)which uses finite-difference time-domain method to simulate radio waves propogating around Moon.\n",
    "\n",
    "The calc_width function is the only function that I will be using. It takes 3 arguments as inputs <br>\n",
    "1 $\\nu$ (nu) which is the frequecny of wave in kHz. In our case I find the extent of cone for 30 MHz ($30\\times 10^3$ kHz) and 250 MHz ($250\\times 10^3$ kHz)<br>\n",
    "2 h which is the height above the lunar surface in km. I find the extent of quiet cone for maximum allowed height of 150 km with a fixed step size<br>\n",
    "3 db which represents the attenuation required. For our case I take the maximum allowed value of attenuation (-90 dB) <br>\n",
    "\n",
    "The `calc_width` function returns width of the quiet cone in degrees and the error associated with it. <br>\n",
    "Naturally the quiet cone is centered at farside around the line joining centre of Moon to centre of Earth. This line is not fixed with respect to surface of the Moon and varies slightly throughtout the year. Thus the quiet cone shifts slightly in a year with respect to lunar surface. **The cone is fixed in Earth_X system** and all plots of width of quiet cone generated in cells below are in Earth_X system."
   ]
  },
  {
   "cell_type": "markdown",
   "metadata": {},
   "source": [
    "---"
   ]
  },
  {
   "cell_type": "markdown",
   "metadata": {},
   "source": [
    "# Calculating Width of Quiet Region #\n",
    "\n",
    "This folder contains Python functions which use the numerical results \n",
    "of FDTD simulations to quickly calculate the size of the radio quiet cone.\n",
    "The width of the quiet region depends on three parameters:\n",
    "\n",
    "* ν: frequency (in kHz)\n",
    "* h: height above in the lunar surface (0 km <= h <= 150 km)\n",
    "* dB: the relative intensity threshold for the quiet region (-90 <= dB <= -50)\n",
    "\n",
    "### Running scripts ###\n",
    "\n",
    "The `calc_width` will likely be the only function that you will need to use directly. This function will return the width of the quiet region along with a +/- \n",
    "uncertainty in degrees given the three input parameters listed above. If the calculated width is negative, the function will return 0. An example of how to use \n",
    "the `calc_width` function is shown in the `example_calc_width.py` script."
   ]
  },
  {
   "cell_type": "code",
   "execution_count": 1,
   "metadata": {},
   "outputs": [],
   "source": [
    "\"\"\"\n",
    "File: load_2d_interp.py\n",
    "Author: Neil Bassett\n",
    "Date: 20 Aug 2019\n",
    "\n",
    "Description: Contains functions which load interpolations of height vs. dB\n",
    "             threshold grid for the coefficients a and b in the power law\n",
    "             a*(nu**b) where nu is the frequency. Grid was calculated \n",
    "             from fits to FDTD simulations of RFI diffraction around the moon.\n",
    "\"\"\"\n",
    "from __future__ import division\n",
    "import numpy as np\n",
    "import pickle\n",
    "from scipy.interpolate import interp2d\n",
    "\n",
    "def load_interp_2d():\n",
    "    \"\"\"\n",
    "    Loads interpolation of h vs. dB grid for a and b power law parameters\n",
    "    from 2d_interp_h_vs_dB.pkl\n",
    "    \"\"\"\n",
    "    f = open('2d_interp_h_vs_dB.pkl', 'rb')\n",
    "    interp_dict = pickle.load(f)\n",
    "    f.close()\n",
    "    return interp_dict['a_grid_interp'],\\\n",
    "           interp_dict['b_grid_interp']\n"
   ]
  },
  {
   "cell_type": "code",
   "execution_count": 2,
   "metadata": {},
   "outputs": [],
   "source": [
    "\"\"\"\n",
    "File: calc_width.py\n",
    "Author: Neil Bassett\n",
    "Date: 20 Aug 2019\n",
    "\n",
    "Description: Contains function to calculate the width of the radio quiet region\n",
    "             given the frequency, height above the lunar surface, and intensity\n",
    "             threshold in dB.\n",
    "\"\"\"\n",
    "from __future__ import division\n",
    "import numpy as np\n",
    "from load_interp_2d import load_interp_2d\n",
    "\n",
    "def geom_width(h):\n",
    "    \"\"\"\n",
    "    Calculates width of quiet from pure geometry (i.e. ignoring diffraction)\n",
    "\n",
    "    h: height above the surface of the Moon in km \n",
    "    \"\"\"\n",
    "    r_moon = 1737.1\n",
    "    r_earth = 6371\n",
    "    d = 384400\n",
    "    slope = (r_earth - r_moon)/d\n",
    "    A = 1 + (slope**2)\n",
    "    B = -2*(slope*r_moon)\n",
    "    C = (r_moon**2) - ((r_moon + h)**2)\n",
    "    root1 = (-B + np.sqrt((B**2) - 4*A*C))/(2*A)\n",
    "    root2 = (-B - np.sqrt((B**2)- 4*A*C))/(2*A)\n",
    "    if root1 > 0:\n",
    "        x = root1\n",
    "    else:\n",
    "        x = root2\n",
    "    y = np.sqrt((r_moon + h)**2 - x**2)\n",
    "    angle = np.arctan(y/x)\n",
    "    return 2*angle*(180./np.pi)\n",
    "\n",
    "def width_pwr_law(nu, h, a, b):\n",
    "    \"\"\"\n",
    "    Defines power law model for the width of the quiet region as a function\n",
    "    of frequency. Offset is determined by geometric width which is the\n",
    "    behavior at infinite frequency.\n",
    "\n",
    "    nu: frequency in kHz\n",
    "    h: height above lunar surface in km\n",
    "    a: coefficient, may be calculated from interpolation of h vs dB grid\n",
    "    b: coefficient, may be calculated from interpolation of h vs dB grid\n",
    "    \"\"\"\n",
    "    return geom_width(h) - a*(nu**b)\n",
    "\n",
    "def calc_width(nu, h, dB):\n",
    "    \"\"\"\n",
    "    Calculates width of quiet cone given frequency, height, and dB threshold\n",
    "\n",
    "    nu: frequency in kHz\n",
    "    h: height above lunar surface in km (0 <= h <= 150)\n",
    "    dB: quiet region intensity threshold in dB (-90 <= dB <= -50)\n",
    "\n",
    "    returns: best estimate of width of quiet region (in degrees) with\n",
    "             plus and minus uncertainties\n",
    "    \"\"\"\n",
    "    #if (h < 0 or h > 150 or dB < -90 or dB > -50):\n",
    "    #    raise ValueError('Parameters not within appropriate bounds!')\n",
    "    a_interp, b_interp = load_interp_2d()\n",
    "    best_fit = width_pwr_law(nu, h, a_interp(h, dB)[0], b_interp(h, dB)[0])\n",
    "    plus_uncert = width_pwr_law(nu, h, a_interp(h, dB)[0] - 7,\\\n",
    "                                b_interp(h, dB)[0] - 0.01) - best_fit\n",
    "    minus_uncert = best_fit - width_pwr_law(nu, h, a_interp(h, dB)[0] + 7,\\\n",
    "                                            b_interp(h, dB)[0] + 0.01)\n",
    "    if (best_fit < 0):\n",
    "        best_fit = minus_uncert = 0\n",
    "        plus_uncert = max(0, best_fit + plus_uncert)\n",
    "    return best_fit, plus_uncert, minus_uncert\n"
   ]
  },
  {
   "cell_type": "code",
   "execution_count": 3,
   "metadata": {},
   "outputs": [
    {
     "name": "stdout",
     "output_type": "stream",
     "text": [
      "Freq = 175.0 kHz, h = 50.0 km, threshold = -85.0 dB:\n",
      "Width of radio quiet region = 118.43 +2.34/-2.50 deg\n"
     ]
    }
   ],
   "source": [
    "\"\"\"\n",
    "File: example_load_2d_interp.py\n",
    "Author: Neil Bassett\n",
    "Date: 20 Aug 2019\n",
    "\n",
    "Description: Example of how to use calc_width.py to calculate the width of the\n",
    "             radio quiet region given the frequency, height, and dB threshold.\n",
    "\"\"\"\n",
    "from calc_width import calc_width\n",
    "\n",
    "nu = 175 #kHz\n",
    "h = 50 #km above surface\n",
    "dB = -85 #intensity threshold\n",
    "width, plus, minus = calc_width(nu, h, dB)\n",
    "print('Freq = %.1f kHz, h = %.1f km, threshold = %.1f dB:' % (nu, h, dB))\n",
    "print('Width of radio quiet region = %.2f +%.2f/-%.2f deg'\\\n",
    "      % (width, plus, minus))\n"
   ]
  },
  {
   "cell_type": "markdown",
   "metadata": {},
   "source": [
    "---"
   ]
  },
  {
   "cell_type": "markdown",
   "metadata": {},
   "source": [
    "All the cells below are my work"
   ]
  },
  {
   "cell_type": "code",
   "execution_count": 6,
   "metadata": {
    "scrolled": false
   },
   "outputs": [
    {
     "name": "stdout",
     "output_type": "stream",
     "text": [
      "frequency in KHz 175\n",
      "height in Km 50\n",
      "intensity threshold in dB -85\n",
      "Freq = 175.0 kHz, h = 50.0 km, threshold = -85.0 dB:\n",
      "Width of radio quiet region = 118.43 +2.34/-2.50 deg\n"
     ]
    }
   ],
   "source": [
    "nu = float(input(\"frequency in KHz \"))                \n",
    "h = float(input(\"height in Km \"))      \n",
    "dB = float(input(\"intensity threshold in dB \"))             \n",
    "\n",
    "width, plus, minus = calc_width(nu, h, dB)\n",
    "\n",
    "print('Freq = %.1f kHz, h = %.1f km, threshold = %.1f dB:' % (nu, h, dB))\n",
    "print('Width of radio quiet region = %.2f +%.2f/-%.2f deg'\\\n",
    "      % (width, plus, minus))\n",
    "\n"
   ]
  },
  {
   "cell_type": "markdown",
   "metadata": {},
   "source": [
    "Since the cone is centerd around the $180^o$ longitude in `Earth_X system`, I find the longitude of boundary of quiet cone at diiferent heights using a function cone_long(). In accounting the errors I take the worst case scenarios."
   ]
  },
  {
   "cell_type": "code",
   "execution_count": 7,
   "metadata": {},
   "outputs": [],
   "source": [
    "def cone_long(freq, h, dB):\n",
    "    width, plus, minus = calc_width(freq, h, dB)\n",
    "    \n",
    "    llong, ulong =180-((width-minus)/2) , 180+((width-minus)/2)\n",
    "    \n",
    "    return llong, ulong, dB\n",
    "\n"
   ]
  },
  {
   "cell_type": "markdown",
   "metadata": {},
   "source": [
    "## one frequency all attenuations"
   ]
  },
  {
   "cell_type": "code",
   "execution_count": 9,
   "metadata": {
    "scrolled": false
   },
   "outputs": [
    {
     "data": {
      "image/png": "[encoded data removed]",
      "text/plain": [
       "<Figure size 432x288 with 1 Axes>"
      ]
     },
     "metadata": {
      "needs_background": "light"
     },
     "output_type": "display_data"
    }
   ],
   "source": [
    "import matplotlib.pyplot as plt\n",
    "import pandas as pd\n",
    "\n",
    "\n",
    "\n",
    "df= pd.DataFrame( columns= [\"Height\",\"dB\",\"Llong\",\"Ulong\"])\n",
    "\n",
    "\n",
    "\n",
    "freq= 35000 # kHz\n",
    "dB= -80\n",
    "\n",
    "h=np.linspace(0,150,150) # array of heights \n",
    "\n",
    "plt.xlabel(\"longitude\")\n",
    "plt.ylabel(\"height\")\n",
    "plt.title(\"frequency \"+str(freq/1000)+ \" MHz\", fontsize=15)\n",
    "plt.grid()\n",
    "\n",
    "plt.xticks(ticks= np.arange(0,360,20))\n",
    "plt.axvline(x=180)\n",
    "plt.xlim((90,270))\n",
    "plt.ylim((0,160))\n",
    "\n",
    "\n",
    "#colours for    -90, -80, -70, -60, -50\n",
    "c=['#1f77b4', '#ff7f0e', '#2ca02c', '#d62728', '#9467bd']\n",
    "\n",
    "for (att, c_pos) in zip(range(-50,-100,-10),range(0,5,1)):\n",
    "    for height in h:\n",
    "        llong, ulong, dB= cone_long(freq, height, att)\n",
    "        df= df.append({\"Height\": height,\"dB\":att, \"Llong\": llong, \"Ulong\": ulong}, ignore_index=True)\n",
    "        if (np.floor(height)==0):\n",
    "            plt.scatter([llong,ulong],[height,height], c=c[c_pos], s=1, label=str(dB)+\" dB\")\n",
    "        else:    \n",
    "            plt.scatter([llong,ulong],[height,height], c=c[c_pos], s=1)\n",
    "    \n",
    "plt.legend()\n",
    "\n",
    "\n",
    "df.to_excel(\"Radio_cone_1freq.xlsx\", index= None)"
   ]
  },
  {
   "cell_type": "markdown",
   "metadata": {},
   "source": [
    "## Plotting min cone size at upper and lower limit of frequency band and maximum attenuation of -90 dB \n",
    "## storing height vs longitude values in an excel file"
   ]
  },
  {
   "cell_type": "code",
   "execution_count": 6,
   "metadata": {},
   "outputs": [
    {
     "data": {
      "image/png": "[encoded data removed]",
      "text/plain": [
       "<Figure size 432x288 with 1 Axes>"
      ]
     },
     "metadata": {
      "needs_background": "light"
     },
     "output_type": "display_data"
    }
   ],
   "source": [
    "total= 300 # total steps from 0 km to 150 km\n",
    "heights=np.linspace(0, 150, total) # to store height values\n",
    "\n",
    "x_vals=np.zeros(total*2)      # to store long values\n",
    "y_vals=np.zeros(total*2)    # to store height values of points\n",
    "\n",
    "#------------------------------------------\n",
    "\n",
    "\n",
    "\n",
    "#-------------------------------------------\n",
    "msg= \"Frequency 200 MHz and 35 MHz\"\n",
    "plt.xlabel(\"Longitude\", fontsize=15)\n",
    "plt.ylabel(\"Height in km \", fontsize=15)\n",
    "plt.title(msg, fontsize=15)\n",
    "plt.grid()\n",
    "plt.xticks(ticks= np.arange(0,360,20))\n",
    "plt.axvline(x=180)\n",
    "plt.xlim((80,280))\n",
    "plt.ylim((0,160))\n",
    "\n",
    "\n",
    "freqs=[30, 250] # upper and lower limit of frequency band\n",
    "\n",
    "\n",
    "#-------------------------------------------\n",
    "\n",
    "import pandas as pd\n",
    "\n",
    "a=np.zeros((total, 5))\n",
    "df= pd.DataFrame(data=a, columns= [\"Height\",\"Llong_30\",\"Ulong_30\",\"Llong_250\",\"Ulong_250\"])\n",
    "\n",
    "\n",
    "#-------------------------------------------\n",
    "\n",
    "\n",
    "    \n",
    "att=-90\n",
    "    \n",
    "for pos in range(np.size(heights)):\n",
    "    for freq in freqs:\n",
    "\n",
    "        freq*=1000  # converting to kHz\n",
    "        llong, ulong, att=cone_long(freq, heights[pos], att)\n",
    "        x_vals[pos]= llong\n",
    "        x_vals[-(pos+1)]= ulong\n",
    "        y_vals[pos]= heights[pos]\n",
    "        y_vals[-(pos+1)]= heights[pos]\n",
    "\n",
    "        if freq==freqs[0]*1000:\n",
    "            df.iloc[pos, 0]= heights[pos]\n",
    "            df.iloc[pos, 1]= llong\n",
    "            df.iloc[pos ,2]= ulong\n",
    "        else:\n",
    "#             df.iloc[pos, 0]= heights[pos] # height column has already been filled\n",
    "            df.iloc[pos, 3]= llong\n",
    "            df.iloc[pos ,4]= ulong\n",
    "\n",
    "\n",
    "plt.plot(df.iloc[:,1], df.iloc[:,0], color= \"blue\",marker= \"o\", label= str(freqs[0])+\" MHz\"+ str(att)+\" dB\")\n",
    "plt.plot(df.iloc[:,2], df.iloc[:,0], color= \"blue\",marker= \"o\")\n",
    "\n",
    "\n",
    "\n",
    "plt.plot(df.iloc[:,3], df.iloc[:,0], color= \"red\",marker= \"^\", label= str(freqs[1])+\" MHz\"+ str(att)+\" dB\")\n",
    "plt.plot(df.iloc[:,4], df.iloc[:,0], color= \"red\",marker= \"^\")\n",
    "\n",
    " #-------------------------------------------\n",
    "\n",
    "\n",
    "\n",
    "\n",
    "plt.legend()\n",
    "plt.show()\n",
    "\n",
    "\n",
    "df.to_excel(\"Radio_cone_width.xlsx\", index= None)"
   ]
  }
 ],
 "metadata": {
  "kernelspec": {
   "display_name": "Python 3",
   "language": "python",
   "name": "python3"
  },
  "language_info": {
   "codemirror_mode": {
    "name": "ipython",
    "version": 3
   },
   "file_extension": ".py",
   "mimetype": "text/x-python",
   "name": "python",
   "nbconvert_exporter": "python",
   "pygments_lexer": "ipython3",
   "version": "3.8.8"
  }
 },
 "nbformat": 4,
 "nbformat_minor": 4
}
